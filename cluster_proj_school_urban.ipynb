{
 "cells": [
  {
   "cell_type": "code",
   "execution_count": 2,
   "metadata": {},
   "outputs": [],
   "source": [
    "import pandas as pd\n",
    "import numpy as np\n",
    "import matplotlib.pyplot as plt\n",
    "import seaborn as sns\n",
    "####\n",
    "from sklearn.preprocessing import StandardScaler\n",
    "from sklearn.cluster import KMeans\n",
    "from sklearn.decomposition import PCA\n",
    "from sklearn.metrics import silhouette_score\n",
    "\n",
    "from sklearn.cluster import DBSCAN"
   ]
  },
  {
   "cell_type": "code",
   "execution_count": 3,
   "metadata": {},
   "outputs": [
    {
     "name": "stderr",
     "output_type": "stream",
     "text": [
      "C:\\Users\\theki\\anaconda3\\lib\\site-packages\\IPython\\core\\interactiveshell.py:3146: DtypeWarning: Columns (17,18,19,20,21,22,23,24) have mixed types.Specify dtype option on import or set low_memory=False.\n",
      "  has_raised = await self.run_ast_nodes(code_ast.body, cell_name,\n"
     ]
    }
   ],
   "source": [
    "df = pd.read_csv('export_dataframe.csv')\n",
    "df[' school.mooe '] = df[' school.mooe '].str.replace(',', '').astype(float)\n",
    "df = df[df['school.classification'] == 'Elementary']\n",
    "# note try to filter out the SPED SCHOOLS and SPED Student for a more general approach, may possibly cause noise on the data set"
   ]
  },
  {
   "cell_type": "code",
   "execution_count": 4,
   "metadata": {},
   "outputs": [
    {
     "data": {
      "text/plain": [
       "Index(['School ID', 'Kinder Male', 'Kinder Female', 'Grade 1 Male',\n",
       "       'Grade 1 Female', 'Grade 2 Male', 'Grade 2 Female', 'Grade 3 Male',\n",
       "       'Grade 3 Female', 'Grade 4 Male', 'Grade 4 Female', 'Grade 5 Male',\n",
       "       'Grade 5 Female', 'Grade 6 Male', 'Grade 6 Female', 'SPED NG Male',\n",
       "       'SPED NG Female', 'Grade 7 Male', 'Grade 7 Female', 'Grade 8 Male',\n",
       "       'Grade 8 Female', 'Grade 9 Male', 'Grade 9 Female', 'Grade 10 Male',\n",
       "       'Grade 10 Female', 'Grade 11 Male', 'Grade 11 Female', 'Grade 12 Male',\n",
       "       'Grade 12 Female', 'school.id', 'school.name_x', 'school.region',\n",
       "       'school.region.name', 'school.province', 'school.cityhall',\n",
       "       'school.division', 'school.citymuni', 'school.district',\n",
       "       'school.legdistrict', 'school.type', 'school.abbrev',\n",
       "       'school.previousname', 'school.mother.id', 'school.address',\n",
       "       'school.established', 'school.classification', 'school.classification2',\n",
       "       'school.curricularclass', 'school.organization', 'school.cityincome',\n",
       "       'school.cityclass', 'school.urban', 'School Name', 'Region', 'Province',\n",
       "       'Municipality', 'Division', 'District', 'Offering', 'Name of Principal',\n",
       "       'Enrolment', 'Latitude', 'Longitude', 'teachers.instructor',\n",
       "       'teachers.mobile', 'teachers.regular', 'teachers.sped',\n",
       "       'rooms.standard.academic', 'rooms.standard.unused',\n",
       "       'rooms.nonstandard.academic', 'rooms.nonstandard.unused',\n",
       "       'school.name_y', 'school.enrollment', 'school.offering',\n",
       "       ' school.mooe '],\n",
       "      dtype='object')"
      ]
     },
     "execution_count": 4,
     "metadata": {},
     "output_type": "execute_result"
    }
   ],
   "source": [
    "df.columns"
   ]
  },
  {
   "cell_type": "code",
   "execution_count": 5,
   "metadata": {},
   "outputs": [],
   "source": [
    "df_1 = df[['School ID', 'Kinder Male', 'Kinder Female', 'Grade 1 Male',\n",
    "       'Grade 1 Female', 'Grade 2 Male', 'Grade 2 Female', 'Grade 3 Male',\n",
    "       'Grade 3 Female', 'Grade 4 Male', 'Grade 4 Female', 'Grade 5 Male',\n",
    "       'Grade 5 Female', 'Grade 6 Male', 'Grade 6 Female', 'SPED NG Male',\n",
    "       'SPED NG Female']]"
   ]
  },
  {
   "cell_type": "code",
   "execution_count": 6,
   "metadata": {},
   "outputs": [
    {
     "name": "stderr",
     "output_type": "stream",
     "text": [
      "<ipython-input-6-d70e700ca2ed>:1: SettingWithCopyWarning: \n",
      "A value is trying to be set on a copy of a slice from a DataFrame.\n",
      "Try using .loc[row_indexer,col_indexer] = value instead\n",
      "\n",
      "See the caveats in the documentation: https://pandas.pydata.org/pandas-docs/stable/user_guide/indexing.html#returning-a-view-versus-a-copy\n",
      "  df_1['total_stud'] = df_1['Kinder Male'] + df_1['Kinder Female'] + df_1['Grade 1 Male'] + df_1['Grade 1 Female'] + df_1['Grade 2 Male'] + df_1['Grade 2 Female'] + df_1['Grade 3 Male'] + df_1['Grade 3 Female'] + df_1['Grade 4 Male'] + df_1['Grade 4 Female'] + df_1['Grade 5 Male'] + df_1['Grade 5 Female'] + df_1['Grade 6 Male'] + df_1['Grade 6 Female'] + df_1['SPED NG Male'] + df_1['SPED NG Female']\n"
     ]
    },
    {
     "data": {
      "text/plain": [
       "0          90.0\n",
       "1         456.0\n",
       "2         167.0\n",
       "3         122.0\n",
       "4          77.0\n",
       "          ...  \n",
       "38643    1738.0\n",
       "38644    1107.0\n",
       "38645    2196.0\n",
       "38646    5601.0\n",
       "38647    1175.0\n",
       "Name: total_stud, Length: 38618, dtype: float64"
      ]
     },
     "execution_count": 6,
     "metadata": {},
     "output_type": "execute_result"
    }
   ],
   "source": [
    "df_1['total_stud'] = df_1['Kinder Male'] + df_1['Kinder Female'] + df_1['Grade 1 Male'] + df_1['Grade 1 Female'] + df_1['Grade 2 Male'] + df_1['Grade 2 Female'] + df_1['Grade 3 Male'] + df_1['Grade 3 Female'] + df_1['Grade 4 Male'] + df_1['Grade 4 Female'] + df_1['Grade 5 Male'] + df_1['Grade 5 Female'] + df_1['Grade 6 Male'] + df_1['Grade 6 Female'] + df_1['SPED NG Male'] + df_1['SPED NG Female']\n",
    "df_tot_stud = df_1['total_stud']\n",
    "df_tot_stud"
   ]
  },
  {
   "cell_type": "code",
   "execution_count": 7,
   "metadata": {},
   "outputs": [
    {
     "name": "stderr",
     "output_type": "stream",
     "text": [
      "<ipython-input-7-25170418af35>:2: SettingWithCopyWarning: \n",
      "A value is trying to be set on a copy of a slice from a DataFrame.\n",
      "Try using .loc[row_indexer,col_indexer] = value instead\n",
      "\n",
      "See the caveats in the documentation: https://pandas.pydata.org/pandas-docs/stable/user_guide/indexing.html#returning-a-view-versus-a-copy\n",
      "  df_2['total_inst'] = (df_2['teachers.instructor'] + df_2['teachers.mobile'] + df_2['teachers.regular'] + df_2['teachers.sped'])\n"
     ]
    }
   ],
   "source": [
    "df_2 = df[['School ID','teachers.instructor','teachers.mobile','teachers.regular','teachers.sped']]\n",
    "df_2['total_inst'] = (df_2['teachers.instructor'] + df_2['teachers.mobile'] + df_2['teachers.regular'] + df_2['teachers.sped'])\n",
    "df_total_inst = df_2['total_inst']"
   ]
  },
  {
   "cell_type": "code",
   "execution_count": 8,
   "metadata": {},
   "outputs": [
    {
     "name": "stderr",
     "output_type": "stream",
     "text": [
      "<ipython-input-8-50f4e99b4986>:3: SettingWithCopyWarning: \n",
      "A value is trying to be set on a copy of a slice from a DataFrame.\n",
      "Try using .loc[row_indexer,col_indexer] = value instead\n",
      "\n",
      "See the caveats in the documentation: https://pandas.pydata.org/pandas-docs/stable/user_guide/indexing.html#returning-a-view-versus-a-copy\n",
      "  df_3[\"rooms_total\"] = (df['rooms.standard.academic'] +\n"
     ]
    }
   ],
   "source": [
    "df_3 = df[['rooms.standard.academic','rooms.standard.unused','rooms.nonstandard.academic','rooms.nonstandard.unused']]\n",
    "\n",
    "df_3[\"rooms_total\"] = (df['rooms.standard.academic'] + \n",
    "                             df['rooms.standard.unused'] + \n",
    "                             df['rooms.nonstandard.academic'] + \n",
    "                             df['rooms.nonstandard.unused'])\n",
    "\n",
    "df_rooms_total = df_3['rooms_total']"
   ]
  },
  {
   "cell_type": "code",
   "execution_count": 9,
   "metadata": {},
   "outputs": [],
   "source": [
    "df_4 = df[['school.region',' school.mooe ','school.urban']]"
   ]
  },
  {
   "cell_type": "code",
   "execution_count": 10,
   "metadata": {},
   "outputs": [],
   "source": [
    "final_df = pd.concat([df_tot_stud, df_total_inst, df_rooms_total, df_4], axis = 1)"
   ]
  },
  {
   "cell_type": "code",
   "execution_count": 11,
   "metadata": {},
   "outputs": [],
   "source": [
    "final_df = final_df.dropna()"
   ]
  },
  {
   "cell_type": "code",
   "execution_count": 12,
   "metadata": {},
   "outputs": [
    {
     "data": {
      "text/html": [
       "<div>\n",
       "<style scoped>\n",
       "    .dataframe tbody tr th:only-of-type {\n",
       "        vertical-align: middle;\n",
       "    }\n",
       "\n",
       "    .dataframe tbody tr th {\n",
       "        vertical-align: top;\n",
       "    }\n",
       "\n",
       "    .dataframe thead th {\n",
       "        text-align: right;\n",
       "    }\n",
       "</style>\n",
       "<table border=\"1\" class=\"dataframe\">\n",
       "  <thead>\n",
       "    <tr style=\"text-align: right;\">\n",
       "      <th></th>\n",
       "      <th>total_stud</th>\n",
       "      <th>total_inst</th>\n",
       "      <th>rooms_total</th>\n",
       "      <th>school.region</th>\n",
       "      <th>school.mooe</th>\n",
       "      <th>school.urban</th>\n",
       "    </tr>\n",
       "  </thead>\n",
       "  <tbody>\n",
       "    <tr>\n",
       "      <th>0</th>\n",
       "      <td>90.0</td>\n",
       "      <td>2.0</td>\n",
       "      <td>2.0</td>\n",
       "      <td>Region I</td>\n",
       "      <td>84000.0</td>\n",
       "      <td>Partially Urban</td>\n",
       "    </tr>\n",
       "    <tr>\n",
       "      <th>1</th>\n",
       "      <td>456.0</td>\n",
       "      <td>17.0</td>\n",
       "      <td>12.0</td>\n",
       "      <td>Region I</td>\n",
       "      <td>268000.0</td>\n",
       "      <td>Partially Urban</td>\n",
       "    </tr>\n",
       "    <tr>\n",
       "      <th>2</th>\n",
       "      <td>167.0</td>\n",
       "      <td>7.0</td>\n",
       "      <td>6.0</td>\n",
       "      <td>Region I</td>\n",
       "      <td>135000.0</td>\n",
       "      <td>Partially Urban</td>\n",
       "    </tr>\n",
       "    <tr>\n",
       "      <th>3</th>\n",
       "      <td>122.0</td>\n",
       "      <td>7.0</td>\n",
       "      <td>6.0</td>\n",
       "      <td>Region I</td>\n",
       "      <td>116000.0</td>\n",
       "      <td>Partially Urban</td>\n",
       "    </tr>\n",
       "    <tr>\n",
       "      <th>4</th>\n",
       "      <td>77.0</td>\n",
       "      <td>7.0</td>\n",
       "      <td>6.0</td>\n",
       "      <td>Region I</td>\n",
       "      <td>115000.0</td>\n",
       "      <td>Partially Urban</td>\n",
       "    </tr>\n",
       "  </tbody>\n",
       "</table>\n",
       "</div>"
      ],
      "text/plain": [
       "   total_stud  total_inst  rooms_total school.region   school.mooe   \\\n",
       "0        90.0         2.0          2.0      Region I        84000.0   \n",
       "1       456.0        17.0         12.0      Region I       268000.0   \n",
       "2       167.0         7.0          6.0      Region I       135000.0   \n",
       "3       122.0         7.0          6.0      Region I       116000.0   \n",
       "4        77.0         7.0          6.0      Region I       115000.0   \n",
       "\n",
       "      school.urban  \n",
       "0  Partially Urban  \n",
       "1  Partially Urban  \n",
       "2  Partially Urban  \n",
       "3  Partially Urban  \n",
       "4  Partially Urban  "
      ]
     },
     "execution_count": 12,
     "metadata": {},
     "output_type": "execute_result"
    }
   ],
   "source": [
    "final_df.head()"
   ]
  },
  {
   "cell_type": "code",
   "execution_count": 13,
   "metadata": {},
   "outputs": [
    {
     "data": {
      "text/plain": [
       "(36035, 6)"
      ]
     },
     "execution_count": 13,
     "metadata": {},
     "output_type": "execute_result"
    }
   ],
   "source": [
    "final_df.shape"
   ]
  },
  {
   "cell_type": "code",
   "execution_count": 14,
   "metadata": {},
   "outputs": [
    {
     "data": {
      "text/plain": [
       "total_stud       36035\n",
       "total_inst       36035\n",
       "rooms_total      36035\n",
       " school.mooe     36035\n",
       "school.urban     36035\n",
       "dtype: int64"
      ]
     },
     "execution_count": 14,
     "metadata": {},
     "output_type": "execute_result"
    }
   ],
   "source": [
    "final_df.groupby('school.region').count().sum()"
   ]
  },
  {
   "cell_type": "code",
   "execution_count": 15,
   "metadata": {},
   "outputs": [
    {
     "data": {
      "text/plain": [
       "array(['Partially Urban', 'Urban', 'Rural'], dtype=object)"
      ]
     },
     "execution_count": 15,
     "metadata": {},
     "output_type": "execute_result"
    }
   ],
   "source": [
    "final_df['school.urban'].unique()"
   ]
  },
  {
   "cell_type": "code",
   "execution_count": 16,
   "metadata": {},
   "outputs": [],
   "source": [
    "final_df['comp.mooe'] = 3000*final_df['rooms_total'] + 4000*final_df['total_inst'] + 200*final_df['total_stud'] + 40000"
   ]
  },
  {
   "cell_type": "code",
   "execution_count": 17,
   "metadata": {},
   "outputs": [
    {
     "data": {
      "text/html": [
       "<div>\n",
       "<style scoped>\n",
       "    .dataframe tbody tr th:only-of-type {\n",
       "        vertical-align: middle;\n",
       "    }\n",
       "\n",
       "    .dataframe tbody tr th {\n",
       "        vertical-align: top;\n",
       "    }\n",
       "\n",
       "    .dataframe thead th {\n",
       "        text-align: right;\n",
       "    }\n",
       "</style>\n",
       "<table border=\"1\" class=\"dataframe\">\n",
       "  <thead>\n",
       "    <tr style=\"text-align: right;\">\n",
       "      <th></th>\n",
       "      <th>index</th>\n",
       "      <th>total_stud</th>\n",
       "      <th>total_inst</th>\n",
       "      <th>rooms_total</th>\n",
       "      <th>school.region</th>\n",
       "      <th>school.mooe</th>\n",
       "      <th>school.urban</th>\n",
       "      <th>comp.mooe</th>\n",
       "    </tr>\n",
       "  </thead>\n",
       "  <tbody>\n",
       "    <tr>\n",
       "      <th>0</th>\n",
       "      <td>0</td>\n",
       "      <td>90.0</td>\n",
       "      <td>2.0</td>\n",
       "      <td>2.0</td>\n",
       "      <td>Region I</td>\n",
       "      <td>84000.0</td>\n",
       "      <td>Partially Urban</td>\n",
       "      <td>72000.0</td>\n",
       "    </tr>\n",
       "    <tr>\n",
       "      <th>1</th>\n",
       "      <td>1</td>\n",
       "      <td>456.0</td>\n",
       "      <td>17.0</td>\n",
       "      <td>12.0</td>\n",
       "      <td>Region I</td>\n",
       "      <td>268000.0</td>\n",
       "      <td>Partially Urban</td>\n",
       "      <td>235200.0</td>\n",
       "    </tr>\n",
       "    <tr>\n",
       "      <th>2</th>\n",
       "      <td>2</td>\n",
       "      <td>167.0</td>\n",
       "      <td>7.0</td>\n",
       "      <td>6.0</td>\n",
       "      <td>Region I</td>\n",
       "      <td>135000.0</td>\n",
       "      <td>Partially Urban</td>\n",
       "      <td>119400.0</td>\n",
       "    </tr>\n",
       "    <tr>\n",
       "      <th>3</th>\n",
       "      <td>3</td>\n",
       "      <td>122.0</td>\n",
       "      <td>7.0</td>\n",
       "      <td>6.0</td>\n",
       "      <td>Region I</td>\n",
       "      <td>116000.0</td>\n",
       "      <td>Partially Urban</td>\n",
       "      <td>110400.0</td>\n",
       "    </tr>\n",
       "    <tr>\n",
       "      <th>4</th>\n",
       "      <td>4</td>\n",
       "      <td>77.0</td>\n",
       "      <td>7.0</td>\n",
       "      <td>6.0</td>\n",
       "      <td>Region I</td>\n",
       "      <td>115000.0</td>\n",
       "      <td>Partially Urban</td>\n",
       "      <td>101400.0</td>\n",
       "    </tr>\n",
       "    <tr>\n",
       "      <th>...</th>\n",
       "      <td>...</td>\n",
       "      <td>...</td>\n",
       "      <td>...</td>\n",
       "      <td>...</td>\n",
       "      <td>...</td>\n",
       "      <td>...</td>\n",
       "      <td>...</td>\n",
       "      <td>...</td>\n",
       "    </tr>\n",
       "    <tr>\n",
       "      <th>32609</th>\n",
       "      <td>38602</td>\n",
       "      <td>522.0</td>\n",
       "      <td>15.0</td>\n",
       "      <td>11.0</td>\n",
       "      <td>NCR</td>\n",
       "      <td>266000.0</td>\n",
       "      <td>Urban</td>\n",
       "      <td>237400.0</td>\n",
       "    </tr>\n",
       "    <tr>\n",
       "      <th>32610</th>\n",
       "      <td>38603</td>\n",
       "      <td>439.0</td>\n",
       "      <td>18.0</td>\n",
       "      <td>10.0</td>\n",
       "      <td>NCR</td>\n",
       "      <td>269000.0</td>\n",
       "      <td>Urban</td>\n",
       "      <td>229800.0</td>\n",
       "    </tr>\n",
       "    <tr>\n",
       "      <th>32611</th>\n",
       "      <td>38624</td>\n",
       "      <td>140.0</td>\n",
       "      <td>23.0</td>\n",
       "      <td>6.0</td>\n",
       "      <td>NCR</td>\n",
       "      <td>174000.0</td>\n",
       "      <td>Urban</td>\n",
       "      <td>178000.0</td>\n",
       "    </tr>\n",
       "    <tr>\n",
       "      <th>32612</th>\n",
       "      <td>38625</td>\n",
       "      <td>62.0</td>\n",
       "      <td>8.0</td>\n",
       "      <td>9.0</td>\n",
       "      <td>NCR</td>\n",
       "      <td>128000.0</td>\n",
       "      <td>Urban</td>\n",
       "      <td>111400.0</td>\n",
       "    </tr>\n",
       "    <tr>\n",
       "      <th>32613</th>\n",
       "      <td>38626</td>\n",
       "      <td>328.0</td>\n",
       "      <td>0.0</td>\n",
       "      <td>38.0</td>\n",
       "      <td>NCR</td>\n",
       "      <td>293000.0</td>\n",
       "      <td>Urban</td>\n",
       "      <td>219600.0</td>\n",
       "    </tr>\n",
       "  </tbody>\n",
       "</table>\n",
       "<p>32614 rows × 8 columns</p>\n",
       "</div>"
      ],
      "text/plain": [
       "       index  total_stud  total_inst  rooms_total school.region  \\\n",
       "0          0        90.0         2.0          2.0      Region I   \n",
       "1          1       456.0        17.0         12.0      Region I   \n",
       "2          2       167.0         7.0          6.0      Region I   \n",
       "3          3       122.0         7.0          6.0      Region I   \n",
       "4          4        77.0         7.0          6.0      Region I   \n",
       "...      ...         ...         ...          ...           ...   \n",
       "32609  38602       522.0        15.0         11.0           NCR   \n",
       "32610  38603       439.0        18.0         10.0           NCR   \n",
       "32611  38624       140.0        23.0          6.0           NCR   \n",
       "32612  38625        62.0         8.0          9.0           NCR   \n",
       "32613  38626       328.0         0.0         38.0           NCR   \n",
       "\n",
       "        school.mooe      school.urban  comp.mooe  \n",
       "0            84000.0  Partially Urban    72000.0  \n",
       "1           268000.0  Partially Urban   235200.0  \n",
       "2           135000.0  Partially Urban   119400.0  \n",
       "3           116000.0  Partially Urban   110400.0  \n",
       "4           115000.0  Partially Urban   101400.0  \n",
       "...              ...              ...        ...  \n",
       "32609       266000.0            Urban   237400.0  \n",
       "32610       269000.0            Urban   229800.0  \n",
       "32611       174000.0            Urban   178000.0  \n",
       "32612       128000.0            Urban   111400.0  \n",
       "32613       293000.0            Urban   219600.0  \n",
       "\n",
       "[32614 rows x 8 columns]"
      ]
     },
     "execution_count": 17,
     "metadata": {},
     "output_type": "execute_result"
    }
   ],
   "source": [
    "Q1 = final_df[' school.mooe '].quantile(0.25)\n",
    "Q3 = final_df[' school.mooe '].quantile(0.75)\n",
    "IQR = Q3 - Q1\n",
    "final_df = (final_df[(final_df[' school.mooe '] >= Q1 - 1.5*IQR) & \n",
    "                           (final_df[' school.mooe '] <= Q3 + 1.5*IQR)])\n",
    "final_df = final_df.dropna()\n",
    "final_df = final_df.reset_index()\n",
    "final_df"
   ]
  },
  {
   "cell_type": "code",
   "execution_count": 18,
   "metadata": {},
   "outputs": [
    {
     "data": {
      "text/plain": [
       "(32614, 8)"
      ]
     },
     "execution_count": 18,
     "metadata": {},
     "output_type": "execute_result"
    }
   ],
   "source": [
    "final_df.shape"
   ]
  },
  {
   "cell_type": "code",
   "execution_count": 19,
   "metadata": {},
   "outputs": [],
   "source": [
    "#final_df1 = final_df.copy()"
   ]
  },
  {
   "cell_type": "code",
   "execution_count": 20,
   "metadata": {},
   "outputs": [],
   "source": [
    "#final_df1 = final_df1[['total_stud','total_inst','rooms_total',' school.mooe ', 'comp.mooe']].dropna()\n",
    "#final_df1.to_csv('clean_df.csv')"
   ]
  },
  {
   "cell_type": "markdown",
   "metadata": {},
   "source": [
    "# Clean data frame"
   ]
  },
  {
   "cell_type": "code",
   "execution_count": 21,
   "metadata": {},
   "outputs": [],
   "source": [
    "model_df = final_df.copy()"
   ]
  },
  {
   "cell_type": "markdown",
   "metadata": {},
   "source": [
    "# Encoding"
   ]
  },
  {
   "cell_type": "code",
   "execution_count": 22,
   "metadata": {},
   "outputs": [],
   "source": [
    "#model_df['school.cityclass'].unique()"
   ]
  },
  {
   "cell_type": "code",
   "execution_count": 23,
   "metadata": {},
   "outputs": [],
   "source": [
    "#cc_labels = {'Component City': 0, 'Independent City': 1, 'Highly Urbanized City': 2}\n",
    "#model_df['school.cityclass'] = model_df['school.cityclass'].map(cc_labels)"
   ]
  },
  {
   "cell_type": "code",
   "execution_count": 24,
   "metadata": {},
   "outputs": [],
   "source": [
    "#model_df"
   ]
  },
  {
   "cell_type": "code",
   "execution_count": 25,
   "metadata": {},
   "outputs": [
    {
     "data": {
      "text/plain": [
       "array(['Partially Urban', 'Urban', 'Rural'], dtype=object)"
      ]
     },
     "execution_count": 25,
     "metadata": {},
     "output_type": "execute_result"
    }
   ],
   "source": [
    "model_df['school.urban'].unique()"
   ]
  },
  {
   "cell_type": "code",
   "execution_count": 26,
   "metadata": {},
   "outputs": [],
   "source": [
    "urb_labels = {'Partially Urban': 1, 'Urban': 0, 'Rural': 2}\n",
    "model_df['school.urban'] = model_df['school.urban'].map(urb_labels)"
   ]
  },
  {
   "cell_type": "markdown",
   "metadata": {},
   "source": [
    "# Modelling with PCA"
   ]
  },
  {
   "cell_type": "code",
   "execution_count": 27,
   "metadata": {},
   "outputs": [
    {
     "data": {
      "text/plain": [
       "total_stud       0\n",
       "total_inst       0\n",
       "rooms_total      0\n",
       " school.mooe     0\n",
       "school.urban     0\n",
       "dtype: int64"
      ]
     },
     "execution_count": 27,
     "metadata": {},
     "output_type": "execute_result"
    }
   ],
   "source": [
    "#model_df_1 = model_df[['total_stud','total_inst','rooms_total',' school.mooe ','school.cityclass','school.urban']].reset_index()\n",
    "model_df_1 = model_df[['total_stud','total_inst','rooms_total',' school.mooe ','school.urban']]\n",
    "model_df_1.isna().sum()"
   ]
  },
  {
   "cell_type": "code",
   "execution_count": 28,
   "metadata": {},
   "outputs": [],
   "source": [
    "scaler = StandardScaler()\n",
    "scaled_df = scaler.fit_transform(model_df_1)"
   ]
  },
  {
   "cell_type": "code",
   "execution_count": 29,
   "metadata": {},
   "outputs": [],
   "source": [
    "model_df_pca = PCA(n_components = 2).fit_transform(scaled_df)"
   ]
  },
  {
   "cell_type": "code",
   "execution_count": 30,
   "metadata": {},
   "outputs": [],
   "source": [
    "# Kmeans clustering\n",
    "#kmodel1 = KMeans(n_clusters = 4, random_state = 42, init = 'random').fit(model_df_pca)\n",
    "#pred_label_1 = kmodel1.predict(model_df_pca)"
   ]
  },
  {
   "cell_type": "code",
   "execution_count": 31,
   "metadata": {},
   "outputs": [],
   "source": [
    "# DBSCAN\n",
    "kmodel1 = DBSCAN(min_samples = 3).fit(model_df_pca)\n",
    "pred_label_1 = kmodel1.labels_"
   ]
  },
  {
   "cell_type": "code",
   "execution_count": 32,
   "metadata": {},
   "outputs": [],
   "source": [
    "pred_label_df = pd.DataFrame(pred_label_1, columns = ['labels'])\n",
    "model_df_pca_df = pd.DataFrame(model_df_pca, columns = ['PCA1', 'PCA2'])"
   ]
  },
  {
   "cell_type": "code",
   "execution_count": 33,
   "metadata": {},
   "outputs": [
    {
     "data": {
      "text/plain": [
       " 0    29511\n",
       " 2     1685\n",
       " 1     1414\n",
       "-1        4\n",
       "Name: labels, dtype: int64"
      ]
     },
     "execution_count": 33,
     "metadata": {},
     "output_type": "execute_result"
    }
   ],
   "source": [
    "gr_model = pd.concat([model_df_pca_df, pred_label_df], axis = 1)\n",
    "gr_model['labels'].value_counts()"
   ]
  },
  {
   "cell_type": "code",
   "execution_count": 34,
   "metadata": {},
   "outputs": [
    {
     "name": "stderr",
     "output_type": "stream",
     "text": [
      "C:\\Users\\theki\\anaconda3\\lib\\site-packages\\seaborn\\_decorators.py:36: FutureWarning: Pass the following variables as keyword args: x, y. From version 0.12, the only valid positional argument will be `data`, and passing other arguments without an explicit keyword will result in an error or misinterpretation.\n",
      "  warnings.warn(\n",
      "C:\\Users\\theki\\anaconda3\\lib\\site-packages\\seaborn\\_decorators.py:36: FutureWarning: Pass the following variables as keyword args: x, y. From version 0.12, the only valid positional argument will be `data`, and passing other arguments without an explicit keyword will result in an error or misinterpretation.\n",
      "  warnings.warn(\n",
      "C:\\Users\\theki\\anaconda3\\lib\\site-packages\\seaborn\\_decorators.py:36: FutureWarning: Pass the following variables as keyword args: x, y. From version 0.12, the only valid positional argument will be `data`, and passing other arguments without an explicit keyword will result in an error or misinterpretation.\n",
      "  warnings.warn(\n",
      "C:\\Users\\theki\\anaconda3\\lib\\site-packages\\seaborn\\_decorators.py:36: FutureWarning: Pass the following variables as keyword args: x, y. From version 0.12, the only valid positional argument will be `data`, and passing other arguments without an explicit keyword will result in an error or misinterpretation.\n",
      "  warnings.warn(\n"
     ]
    },
    {
     "data": {
      "text/plain": [
       "<AxesSubplot:xlabel='PCA1', ylabel='PCA2'>"
      ]
     },
     "execution_count": 34,
     "metadata": {},
     "output_type": "execute_result"
    },
    {
     "data": {
      "image/png": "[encoded data removed]",
      "text/plain": [
       "<Figure size 648x648 with 1 Axes>"
      ]
     },
     "metadata": {
      "needs_background": "light"
     },
     "output_type": "display_data"
    }
   ],
   "source": [
    "clusterp_0 = gr_model[gr_model['labels'] == 0]\n",
    "clusterp_1 = gr_model[gr_model['labels'] == 1]\n",
    "clusterp_2 = gr_model[gr_model['labels'] == 2]\n",
    "clusterp_3 = gr_model[gr_model['labels'] == 3]\n",
    "\n",
    "plt.figure(figsize = (9,9))\n",
    "sns.scatterplot(clusterp_0['PCA1'], clusterp_0['PCA2'])\n",
    "sns.scatterplot(clusterp_1['PCA1'], clusterp_1['PCA2'])\n",
    "sns.scatterplot(clusterp_2['PCA1'], clusterp_2['PCA2'])\n",
    "sns.scatterplot(clusterp_3['PCA1'], clusterp_3['PCA2'])"
   ]
  },
  {
   "cell_type": "code",
   "execution_count": 35,
   "metadata": {},
   "outputs": [
    {
     "name": "stdout",
     "output_type": "stream",
     "text": [
      "29511 1414 1685 0\n"
     ]
    }
   ],
   "source": [
    "print(len(clusterp_0), len(clusterp_1), len(clusterp_2), len(clusterp_3))"
   ]
  },
  {
   "cell_type": "code",
   "execution_count": 36,
   "metadata": {},
   "outputs": [
    {
     "data": {
      "text/plain": [
       "[69206.07943897118,\n",
       " 50267.63580526488,\n",
       " 35678.728140854495,\n",
       " 25839.20907931088,\n",
       " 18189.779215860053,\n",
       " 14480.228756802415,\n",
       " 11276.970239814276,\n",
       " 9553.879977900153]"
      ]
     },
     "execution_count": 36,
     "metadata": {},
     "output_type": "execute_result"
    }
   ],
   "source": [
    "num_cluster = np.arange(2,10)\n",
    "inertia_list = []\n",
    "for i in num_cluster:\n",
    "    kmodel_loop = KMeans(n_clusters = i).fit(model_df_pca)\n",
    "    inertia_list.append(kmodel_loop.inertia_)\n",
    "    \n",
    "inertia_list"
   ]
  },
  {
   "cell_type": "code",
   "execution_count": 37,
   "metadata": {},
   "outputs": [
    {
     "name": "stderr",
     "output_type": "stream",
     "text": [
      "C:\\Users\\theki\\anaconda3\\lib\\site-packages\\seaborn\\_decorators.py:36: FutureWarning: Pass the following variables as keyword args: x, y. From version 0.12, the only valid positional argument will be `data`, and passing other arguments without an explicit keyword will result in an error or misinterpretation.\n",
      "  warnings.warn(\n"
     ]
    },
    {
     "data": {
      "text/plain": [
       "<AxesSubplot:>"
      ]
     },
     "execution_count": 37,
     "metadata": {},
     "output_type": "execute_result"
    },
    {
     "data": {
      "image/png": "[encoded data removed]",
      "text/plain": [
       "<Figure size 432x432 with 1 Axes>"
      ]
     },
     "metadata": {
      "needs_background": "light"
     },
     "output_type": "display_data"
    }
   ],
   "source": [
    "plt.figure(figsize = (6,6))\n",
    "sns.lineplot(num_cluster, inertia_list)"
   ]
  },
  {
   "cell_type": "code",
   "execution_count": 38,
   "metadata": {},
   "outputs": [
    {
     "data": {
      "text/plain": [
       "0.47408265167895713"
      ]
     },
     "execution_count": 38,
     "metadata": {},
     "output_type": "execute_result"
    }
   ],
   "source": [
    "sil = silhouette_score(model_df_pca, pred_label_1)\n",
    "sil"
   ]
  },
  {
   "cell_type": "code",
   "execution_count": 39,
   "metadata": {},
   "outputs": [
    {
     "data": {
      "text/html": [
       "<div>\n",
       "<style scoped>\n",
       "    .dataframe tbody tr th:only-of-type {\n",
       "        vertical-align: middle;\n",
       "    }\n",
       "\n",
       "    .dataframe tbody tr th {\n",
       "        vertical-align: top;\n",
       "    }\n",
       "\n",
       "    .dataframe thead th {\n",
       "        text-align: right;\n",
       "    }\n",
       "</style>\n",
       "<table border=\"1\" class=\"dataframe\">\n",
       "  <thead>\n",
       "    <tr style=\"text-align: right;\">\n",
       "      <th></th>\n",
       "      <th>total_stud</th>\n",
       "      <th>total_inst</th>\n",
       "      <th>rooms_total</th>\n",
       "      <th>school.mooe</th>\n",
       "      <th>school.urban</th>\n",
       "    </tr>\n",
       "  </thead>\n",
       "  <tbody>\n",
       "    <tr>\n",
       "      <th>0</th>\n",
       "      <td>90.0</td>\n",
       "      <td>2.0</td>\n",
       "      <td>2.0</td>\n",
       "      <td>84000.0</td>\n",
       "      <td>1</td>\n",
       "    </tr>\n",
       "    <tr>\n",
       "      <th>1</th>\n",
       "      <td>456.0</td>\n",
       "      <td>17.0</td>\n",
       "      <td>12.0</td>\n",
       "      <td>268000.0</td>\n",
       "      <td>1</td>\n",
       "    </tr>\n",
       "    <tr>\n",
       "      <th>2</th>\n",
       "      <td>167.0</td>\n",
       "      <td>7.0</td>\n",
       "      <td>6.0</td>\n",
       "      <td>135000.0</td>\n",
       "      <td>1</td>\n",
       "    </tr>\n",
       "    <tr>\n",
       "      <th>3</th>\n",
       "      <td>122.0</td>\n",
       "      <td>7.0</td>\n",
       "      <td>6.0</td>\n",
       "      <td>116000.0</td>\n",
       "      <td>1</td>\n",
       "    </tr>\n",
       "    <tr>\n",
       "      <th>4</th>\n",
       "      <td>77.0</td>\n",
       "      <td>7.0</td>\n",
       "      <td>6.0</td>\n",
       "      <td>115000.0</td>\n",
       "      <td>1</td>\n",
       "    </tr>\n",
       "    <tr>\n",
       "      <th>...</th>\n",
       "      <td>...</td>\n",
       "      <td>...</td>\n",
       "      <td>...</td>\n",
       "      <td>...</td>\n",
       "      <td>...</td>\n",
       "    </tr>\n",
       "    <tr>\n",
       "      <th>32609</th>\n",
       "      <td>522.0</td>\n",
       "      <td>15.0</td>\n",
       "      <td>11.0</td>\n",
       "      <td>266000.0</td>\n",
       "      <td>0</td>\n",
       "    </tr>\n",
       "    <tr>\n",
       "      <th>32610</th>\n",
       "      <td>439.0</td>\n",
       "      <td>18.0</td>\n",
       "      <td>10.0</td>\n",
       "      <td>269000.0</td>\n",
       "      <td>0</td>\n",
       "    </tr>\n",
       "    <tr>\n",
       "      <th>32611</th>\n",
       "      <td>140.0</td>\n",
       "      <td>23.0</td>\n",
       "      <td>6.0</td>\n",
       "      <td>174000.0</td>\n",
       "      <td>0</td>\n",
       "    </tr>\n",
       "    <tr>\n",
       "      <th>32612</th>\n",
       "      <td>62.0</td>\n",
       "      <td>8.0</td>\n",
       "      <td>9.0</td>\n",
       "      <td>128000.0</td>\n",
       "      <td>0</td>\n",
       "    </tr>\n",
       "    <tr>\n",
       "      <th>32613</th>\n",
       "      <td>328.0</td>\n",
       "      <td>0.0</td>\n",
       "      <td>38.0</td>\n",
       "      <td>293000.0</td>\n",
       "      <td>0</td>\n",
       "    </tr>\n",
       "  </tbody>\n",
       "</table>\n",
       "<p>32614 rows × 5 columns</p>\n",
       "</div>"
      ],
      "text/plain": [
       "       total_stud  total_inst  rooms_total   school.mooe   school.urban\n",
       "0            90.0         2.0          2.0        84000.0             1\n",
       "1           456.0        17.0         12.0       268000.0             1\n",
       "2           167.0         7.0          6.0       135000.0             1\n",
       "3           122.0         7.0          6.0       116000.0             1\n",
       "4            77.0         7.0          6.0       115000.0             1\n",
       "...           ...         ...          ...            ...           ...\n",
       "32609       522.0        15.0         11.0       266000.0             0\n",
       "32610       439.0        18.0         10.0       269000.0             0\n",
       "32611       140.0        23.0          6.0       174000.0             0\n",
       "32612        62.0         8.0          9.0       128000.0             0\n",
       "32613       328.0         0.0         38.0       293000.0             0\n",
       "\n",
       "[32614 rows x 5 columns]"
      ]
     },
     "execution_count": 39,
     "metadata": {},
     "output_type": "execute_result"
    }
   ],
   "source": [
    "model_df_1"
   ]
  },
  {
   "cell_type": "code",
   "execution_count": 40,
   "metadata": {},
   "outputs": [
    {
     "data": {
      "text/html": [
       "<div>\n",
       "<style scoped>\n",
       "    .dataframe tbody tr th:only-of-type {\n",
       "        vertical-align: middle;\n",
       "    }\n",
       "\n",
       "    .dataframe tbody tr th {\n",
       "        vertical-align: top;\n",
       "    }\n",
       "\n",
       "    .dataframe thead th {\n",
       "        text-align: right;\n",
       "    }\n",
       "</style>\n",
       "<table border=\"1\" class=\"dataframe\">\n",
       "  <thead>\n",
       "    <tr style=\"text-align: right;\">\n",
       "      <th></th>\n",
       "      <th>total_stud</th>\n",
       "      <th>total_inst</th>\n",
       "      <th>rooms_total</th>\n",
       "      <th>school.mooe</th>\n",
       "      <th>school.urban</th>\n",
       "      <th>labels</th>\n",
       "      <th>comp.mooe</th>\n",
       "    </tr>\n",
       "  </thead>\n",
       "  <tbody>\n",
       "    <tr>\n",
       "      <th>0</th>\n",
       "      <td>90.0</td>\n",
       "      <td>2.0</td>\n",
       "      <td>2.0</td>\n",
       "      <td>84000.0</td>\n",
       "      <td>1</td>\n",
       "      <td>0</td>\n",
       "      <td>72000.0</td>\n",
       "    </tr>\n",
       "    <tr>\n",
       "      <th>1</th>\n",
       "      <td>456.0</td>\n",
       "      <td>17.0</td>\n",
       "      <td>12.0</td>\n",
       "      <td>268000.0</td>\n",
       "      <td>1</td>\n",
       "      <td>0</td>\n",
       "      <td>235200.0</td>\n",
       "    </tr>\n",
       "    <tr>\n",
       "      <th>2</th>\n",
       "      <td>167.0</td>\n",
       "      <td>7.0</td>\n",
       "      <td>6.0</td>\n",
       "      <td>135000.0</td>\n",
       "      <td>1</td>\n",
       "      <td>0</td>\n",
       "      <td>119400.0</td>\n",
       "    </tr>\n",
       "    <tr>\n",
       "      <th>3</th>\n",
       "      <td>122.0</td>\n",
       "      <td>7.0</td>\n",
       "      <td>6.0</td>\n",
       "      <td>116000.0</td>\n",
       "      <td>1</td>\n",
       "      <td>0</td>\n",
       "      <td>110400.0</td>\n",
       "    </tr>\n",
       "    <tr>\n",
       "      <th>4</th>\n",
       "      <td>77.0</td>\n",
       "      <td>7.0</td>\n",
       "      <td>6.0</td>\n",
       "      <td>115000.0</td>\n",
       "      <td>1</td>\n",
       "      <td>0</td>\n",
       "      <td>101400.0</td>\n",
       "    </tr>\n",
       "    <tr>\n",
       "      <th>...</th>\n",
       "      <td>...</td>\n",
       "      <td>...</td>\n",
       "      <td>...</td>\n",
       "      <td>...</td>\n",
       "      <td>...</td>\n",
       "      <td>...</td>\n",
       "      <td>...</td>\n",
       "    </tr>\n",
       "    <tr>\n",
       "      <th>32609</th>\n",
       "      <td>522.0</td>\n",
       "      <td>15.0</td>\n",
       "      <td>11.0</td>\n",
       "      <td>266000.0</td>\n",
       "      <td>0</td>\n",
       "      <td>1</td>\n",
       "      <td>237400.0</td>\n",
       "    </tr>\n",
       "    <tr>\n",
       "      <th>32610</th>\n",
       "      <td>439.0</td>\n",
       "      <td>18.0</td>\n",
       "      <td>10.0</td>\n",
       "      <td>269000.0</td>\n",
       "      <td>0</td>\n",
       "      <td>1</td>\n",
       "      <td>229800.0</td>\n",
       "    </tr>\n",
       "    <tr>\n",
       "      <th>32611</th>\n",
       "      <td>140.0</td>\n",
       "      <td>23.0</td>\n",
       "      <td>6.0</td>\n",
       "      <td>174000.0</td>\n",
       "      <td>0</td>\n",
       "      <td>1</td>\n",
       "      <td>178000.0</td>\n",
       "    </tr>\n",
       "    <tr>\n",
       "      <th>32612</th>\n",
       "      <td>62.0</td>\n",
       "      <td>8.0</td>\n",
       "      <td>9.0</td>\n",
       "      <td>128000.0</td>\n",
       "      <td>0</td>\n",
       "      <td>1</td>\n",
       "      <td>111400.0</td>\n",
       "    </tr>\n",
       "    <tr>\n",
       "      <th>32613</th>\n",
       "      <td>328.0</td>\n",
       "      <td>0.0</td>\n",
       "      <td>38.0</td>\n",
       "      <td>293000.0</td>\n",
       "      <td>0</td>\n",
       "      <td>1</td>\n",
       "      <td>219600.0</td>\n",
       "    </tr>\n",
       "  </tbody>\n",
       "</table>\n",
       "<p>32614 rows × 7 columns</p>\n",
       "</div>"
      ],
      "text/plain": [
       "       total_stud  total_inst  rooms_total   school.mooe   school.urban  \\\n",
       "0            90.0         2.0          2.0        84000.0             1   \n",
       "1           456.0        17.0         12.0       268000.0             1   \n",
       "2           167.0         7.0          6.0       135000.0             1   \n",
       "3           122.0         7.0          6.0       116000.0             1   \n",
       "4            77.0         7.0          6.0       115000.0             1   \n",
       "...           ...         ...          ...            ...           ...   \n",
       "32609       522.0        15.0         11.0       266000.0             0   \n",
       "32610       439.0        18.0         10.0       269000.0             0   \n",
       "32611       140.0        23.0          6.0       174000.0             0   \n",
       "32612        62.0         8.0          9.0       128000.0             0   \n",
       "32613       328.0         0.0         38.0       293000.0             0   \n",
       "\n",
       "       labels  comp.mooe  \n",
       "0           0    72000.0  \n",
       "1           0   235200.0  \n",
       "2           0   119400.0  \n",
       "3           0   110400.0  \n",
       "4           0   101400.0  \n",
       "...       ...        ...  \n",
       "32609       1   237400.0  \n",
       "32610       1   229800.0  \n",
       "32611       1   178000.0  \n",
       "32612       1   111400.0  \n",
       "32613       1   219600.0  \n",
       "\n",
       "[32614 rows x 7 columns]"
      ]
     },
     "execution_count": 40,
     "metadata": {},
     "output_type": "execute_result"
    }
   ],
   "source": [
    "labeled_df = pd.concat([model_df_1, pred_label_df], axis = 'columns')\n",
    "labeled_df['comp.mooe'] = 3000*labeled_df['rooms_total'] + 4000*labeled_df['total_inst'] + 200*labeled_df['total_stud'] + 40000\n",
    "labeled_df"
   ]
  },
  {
   "cell_type": "code",
   "execution_count": 41,
   "metadata": {},
   "outputs": [],
   "source": [
    "labeled_df['perc_diff'] = (labeled_df[' school.mooe '] - labeled_df['comp.mooe'])/labeled_df['comp.mooe'] * 100"
   ]
  },
  {
   "cell_type": "code",
   "execution_count": 42,
   "metadata": {},
   "outputs": [
    {
     "data": {
      "text/plain": [
       "11.839220943930785"
      ]
     },
     "execution_count": 42,
     "metadata": {},
     "output_type": "execute_result"
    }
   ],
   "source": [
    "np.mean(labeled_df['perc_diff'])"
   ]
  },
  {
   "cell_type": "markdown",
   "metadata": {},
   "source": [
    "# 'Urban': 0, 'Partially Urban': 1, 'Rural': 2"
   ]
  },
  {
   "cell_type": "markdown",
   "metadata": {},
   "source": [
    "# Cluster 0 - Partially Urban"
   ]
  },
  {
   "cell_type": "code",
   "execution_count": 43,
   "metadata": {},
   "outputs": [],
   "source": [
    "cluster_0 = labeled_df[labeled_df['labels'] == 0]"
   ]
  },
  {
   "cell_type": "code",
   "execution_count": 44,
   "metadata": {},
   "outputs": [
    {
     "name": "stdout",
     "output_type": "stream",
     "text": [
      "C0: mean: 11.778255774179923; min: -40.557065217391305, max: 98.71794871794873, median: 11.282843894899536\n"
     ]
    }
   ],
   "source": [
    "print('C0: mean: {}; min: {}, max: {}, median: {}'.format(np.mean(cluster_0['perc_diff']), np.min(cluster_0['perc_diff']), np.max(cluster_0['perc_diff']), np.median(cluster_0['perc_diff'])))\n",
    "# urb_labels = {'Partially Urban': 0, 'Urban': 1, 'Rural': 2}"
   ]
  },
  {
   "cell_type": "code",
   "execution_count": 45,
   "metadata": {},
   "outputs": [
    {
     "data": {
      "text/plain": [
       "1    29511\n",
       "Name: school.urban, dtype: int64"
      ]
     },
     "execution_count": 45,
     "metadata": {},
     "output_type": "execute_result"
    }
   ],
   "source": [
    "cluster_0['school.urban'].value_counts()"
   ]
  },
  {
   "cell_type": "code",
   "execution_count": 46,
   "metadata": {},
   "outputs": [],
   "source": [
    "c0_mean = np.mean(cluster_0['perc_diff'])\n",
    "c0_std = np.std(cluster_0['perc_diff'])"
   ]
  },
  {
   "cell_type": "code",
   "execution_count": 47,
   "metadata": {},
   "outputs": [
    {
     "name": "stderr",
     "output_type": "stream",
     "text": [
      "C:\\Users\\theki\\anaconda3\\lib\\site-packages\\seaborn\\distributions.py:2551: FutureWarning: `distplot` is a deprecated function and will be removed in a future version. Please adapt your code to use either `displot` (a figure-level function with similar flexibility) or `histplot` (an axes-level function for histograms).\n",
      "  warnings.warn(msg, FutureWarning)\n"
     ]
    },
    {
     "data": {
      "text/plain": [
       "<AxesSubplot:xlabel='perc_diff', ylabel='Density'>"
      ]
     },
     "execution_count": 47,
     "metadata": {},
     "output_type": "execute_result"
    },
    {
     "data": {
      "image/png": "[encoded data removed]",
      "text/plain": [
       "<Figure size 648x648 with 1 Axes>"
      ]
     },
     "metadata": {
      "needs_background": "light"
     },
     "output_type": "display_data"
    }
   ],
   "source": [
    "plt.figure(figsize = (9,9))\n",
    "sns.distplot(cluster_0['perc_diff'])"
   ]
  },
  {
   "cell_type": "markdown",
   "metadata": {},
   "source": [
    "# Cluster 1 - Urban"
   ]
  },
  {
   "cell_type": "code",
   "execution_count": 48,
   "metadata": {},
   "outputs": [],
   "source": [
    "cluster_1 = labeled_df[labeled_df['labels'] == 1]"
   ]
  },
  {
   "cell_type": "code",
   "execution_count": 49,
   "metadata": {},
   "outputs": [
    {
     "name": "stdout",
     "output_type": "stream",
     "text": [
      "C1: mean: 12.815839458442468; min: -40.10416666666667, max: 35.374697824335215, median: 12.77502735805379\n"
     ]
    }
   ],
   "source": [
    "print('C1: mean: {}; min: {}, max: {}, median: {}'.format(np.mean(cluster_1['perc_diff']), np.min(cluster_1['perc_diff']), np.max(cluster_1['perc_diff']), np.median(cluster_1['perc_diff'])))\n",
    "# urb_labels = {'Partially Urban': 0, 'Urban': 1, 'Rural': 2}"
   ]
  },
  {
   "cell_type": "code",
   "execution_count": 50,
   "metadata": {},
   "outputs": [
    {
     "data": {
      "text/plain": [
       "0    1414\n",
       "Name: school.urban, dtype: int64"
      ]
     },
     "execution_count": 50,
     "metadata": {},
     "output_type": "execute_result"
    }
   ],
   "source": [
    "cluster_1['school.urban'].value_counts()"
   ]
  },
  {
   "cell_type": "code",
   "execution_count": 51,
   "metadata": {},
   "outputs": [
    {
     "name": "stderr",
     "output_type": "stream",
     "text": [
      "C:\\Users\\theki\\anaconda3\\lib\\site-packages\\seaborn\\distributions.py:2551: FutureWarning: `distplot` is a deprecated function and will be removed in a future version. Please adapt your code to use either `displot` (a figure-level function with similar flexibility) or `histplot` (an axes-level function for histograms).\n",
      "  warnings.warn(msg, FutureWarning)\n"
     ]
    },
    {
     "data": {
      "text/plain": [
       "<AxesSubplot:xlabel='perc_diff', ylabel='Density'>"
      ]
     },
     "execution_count": 51,
     "metadata": {},
     "output_type": "execute_result"
    },
    {
     "data": {
      "image/png": "[encoded data removed]",
      "text/plain": [
       "<Figure size 648x648 with 1 Axes>"
      ]
     },
     "metadata": {
      "needs_background": "light"
     },
     "output_type": "display_data"
    }
   ],
   "source": [
    "plt.figure(figsize = (9,9))\n",
    "sns.distplot(cluster_1['perc_diff'])"
   ]
  },
  {
   "cell_type": "markdown",
   "metadata": {},
   "source": [
    "# Cluster 2 - Rural"
   ]
  },
  {
   "cell_type": "code",
   "execution_count": 52,
   "metadata": {},
   "outputs": [],
   "source": [
    "cluster_2 = labeled_df[labeled_df['labels'] == 2]"
   ]
  },
  {
   "cell_type": "code",
   "execution_count": 53,
   "metadata": {},
   "outputs": [
    {
     "name": "stdout",
     "output_type": "stream",
     "text": [
      "C2: mean: 12.122716552140643; min: -17.637271214642265, max: 67.04545454545455, median: 11.29032258064516\n"
     ]
    }
   ],
   "source": [
    "print('C2: mean: {}; min: {}, max: {}, median: {}'.format(np.mean(cluster_2['perc_diff']), np.min(cluster_2['perc_diff']), np.max(cluster_2['perc_diff']), np.median(cluster_2['perc_diff'])))\n",
    "# urb_labels = {'Partially Urban': 0, 'Urban': 1, 'Rural': 2}"
   ]
  },
  {
   "cell_type": "code",
   "execution_count": 54,
   "metadata": {},
   "outputs": [
    {
     "data": {
      "text/plain": [
       "2    1685\n",
       "Name: school.urban, dtype: int64"
      ]
     },
     "execution_count": 54,
     "metadata": {},
     "output_type": "execute_result"
    }
   ],
   "source": [
    "cluster_2['school.urban'].value_counts()"
   ]
  },
  {
   "cell_type": "code",
   "execution_count": 55,
   "metadata": {},
   "outputs": [
    {
     "name": "stderr",
     "output_type": "stream",
     "text": [
      "C:\\Users\\theki\\anaconda3\\lib\\site-packages\\seaborn\\distributions.py:2551: FutureWarning: `distplot` is a deprecated function and will be removed in a future version. Please adapt your code to use either `displot` (a figure-level function with similar flexibility) or `histplot` (an axes-level function for histograms).\n",
      "  warnings.warn(msg, FutureWarning)\n"
     ]
    },
    {
     "data": {
      "text/plain": [
       "<AxesSubplot:xlabel='perc_diff', ylabel='Density'>"
      ]
     },
     "execution_count": 55,
     "metadata": {},
     "output_type": "execute_result"
    },
    {
     "data": {
      "image/png": "[encoded data removed]",
      "text/plain": [
       "<Figure size 648x648 with 1 Axes>"
      ]
     },
     "metadata": {
      "needs_background": "light"
     },
     "output_type": "display_data"
    }
   ],
   "source": [
    "plt.figure(figsize = (9,9))\n",
    "sns.distplot(cluster_2['perc_diff'])"
   ]
  },
  {
   "cell_type": "code",
   "execution_count": null,
   "metadata": {},
   "outputs": [],
   "source": []
  },
  {
   "cell_type": "code",
   "execution_count": null,
   "metadata": {},
   "outputs": [],
   "source": []
  },
  {
   "cell_type": "code",
   "execution_count": null,
   "metadata": {},
   "outputs": [],
   "source": []
  },
  {
   "cell_type": "code",
   "execution_count": null,
   "metadata": {},
   "outputs": [],
   "source": []
  },
  {
   "cell_type": "code",
   "execution_count": null,
   "metadata": {},
   "outputs": [],
   "source": []
  }
 ],
 "metadata": {
  "kernelspec": {
   "display_name": "Python 3",
   "language": "python",
   "name": "python3"
  },
  "language_info": {
   "codemirror_mode": {
    "name": "ipython",
    "version": 3
   },
   "file_extension": ".py",
   "mimetype": "text/x-python",
   "name": "python",
   "nbconvert_exporter": "python",
   "pygments_lexer": "ipython3",
   "version": "3.8.5"
  }
 },
 "nbformat": 4,
 "nbformat_minor": 4
}
